{
 "cells": [
  {
   "cell_type": "markdown",
   "metadata": {
    "id": "8LrB-xEyiFWd"
   },
   "source": [
    "# A deep learning model to classify 10 letters from the Hindi Language\n",
    "\n",
    "</br>\n",
    "Diwankar R. Gupta\n",
    "\n",
    "***\n",
    "\n",
    "This notebook contains code for the following processes:\n",
    " - Collecting a dataset containing images of 10 letters from the hindi language\n",
    " - Preprocessing the data\n",
    " - Training a neural network to classify them accurately\n",
    " - Validating the model performance\n",
    "\n",
    " ***"
   ]
  },
  {
   "cell_type": "markdown",
   "metadata": {
    "id": "7AlTY_JYiMRx"
   },
   "source": [
    "\n",
    "\n",
    "### Dataset Info:\n",
    "\n",
    "<h3><u>Devanagari Handwritten Character Dataset</u><h3>\n",
    "\n",
    "This is an image database of Handwritten Devanagari characters. There are 46 classes of characters with 2000 examples each. The dataset is split into training set(85%) and testing set(15%).\n",
    "\n",
    "***"
   ]
  },
  {
   "cell_type": "code",
   "execution_count": 50,
   "metadata": {
    "id": "fEHoyjh3s2Hh"
   },
   "outputs": [],
   "source": [
    "# Importing the required libraries\n",
    "import numpy as np\n",
    "import pandas as pd\n",
    "import matplotlib.pyplot as plt\n",
    "import cv2\n",
    "import tensorflow as tf\n",
    "import shutil"
   ]
  },
  {
   "cell_type": "code",
   "execution_count": 7,
   "metadata": {
    "colab": {
     "base_uri": "https://localhost:8080/",
     "height": 0
    },
    "id": "hHRHED6yjGHM",
    "outputId": "1947c526-cf94-41fb-e96f-3dda4cbd4164"
   },
   "outputs": [
    {
     "name": "stdout",
     "output_type": "stream",
     "text": [
      "--2024-01-03 09:05:14--  https://archive.ics.uci.edu/static/public/389/devanagari+handwritten+character+dataset.zip\n",
      "Resolving archive.ics.uci.edu (archive.ics.uci.edu)... 128.195.10.252\n",
      "Connecting to archive.ics.uci.edu (archive.ics.uci.edu)|128.195.10.252|:443... connected.\n",
      "HTTP request sent, awaiting response... 200 OK\n",
      "Length: unspecified\n",
      "Saving to: ‘handwritten_dataset.zip’\n",
      "\n",
      "handwritten_dataset     [        <=>         ]  76.69M  47.3MB/s    in 1.6s    \n",
      "\n",
      "2024-01-03 09:05:16 (47.3 MB/s) - ‘handwritten_dataset.zip’ saved [80417803]\n",
      "\n"
     ]
    }
   ],
   "source": [
    "# Downloading and extracting the dataset\n",
    "!wget -O \"handwritten_dataset.zip\" \"https://archive.ics.uci.edu/static/public/389/devanagari+handwritten+character+dataset.zip\"\n",
    "!unzip -qq \"handwritten_dataset.zip\""
   ]
  },
  {
   "cell_type": "markdown",
   "metadata": {
    "id": "pAr916u8kb4E"
   },
   "source": [
    "***\n",
    "\n",
    "The dataset contains about 46 classes of characters, meaning there are images of 46 different letters. Keeping in mind the resource constraint, we will only train a model on a subset of the data, i.e. on 10 characters.\n",
    "\n",
    "We will select images of only 10 different letters from the dataset.\n",
    "\n",
    "***\n",
    "\n",
    "### Preparing a subset of the dataset"
   ]
  },
  {
   "cell_type": "code",
   "execution_count": 15,
   "metadata": {
    "colab": {
     "base_uri": "https://localhost:8080/",
     "height": 0
    },
    "id": "2zmZdcRTk9tO",
    "outputId": "cbad764b-9619-4b3b-d529-89175268afa0"
   },
   "outputs": [
    {
     "name": "stdout",
     "output_type": "stream",
     "text": [
      "character_3_ga\n",
      "character_8_ja\n",
      "character_29_waw\n",
      "character_1_ka\n",
      "character_12_thaa\n",
      "character_34_chhya\n",
      "digit_3\n",
      "character_23_ba\n",
      "digit_1\n",
      "character_15_adna\n",
      "digit_8\n",
      "character_22_pha\n",
      "digit_4\n",
      "character_17_tha\n",
      "character_21_pa\n",
      "character_2_kha\n",
      "character_10_yna\n",
      "character_13_daa\n",
      "character_4_gha\n",
      "character_5_kna\n",
      "character_32_patalosaw\n",
      "character_30_motosaw\n",
      "character_11_taamatar\n",
      "character_28_la\n",
      "character_14_dhaa\n",
      "digit_2\n",
      "character_31_petchiryakha\n",
      "character_27_ra\n",
      "character_19_dha\n",
      "character_20_na\n",
      "digit_7\n",
      "character_7_chha\n",
      "character_18_da\n",
      "character_26_yaw\n",
      "character_25_ma\n",
      "digit_6\n",
      "character_24_bha\n",
      "digit_5\n",
      "digit_9\n",
      "character_33_ha\n",
      "character_16_tabala\n",
      "character_6_cha\n",
      "character_35_tra\n",
      "character_36_gya\n",
      "character_9_jha\n",
      "digit_0\n"
     ]
    }
   ],
   "source": [
    "# Lets look at the number of characters we have\n",
    "import os\n",
    "\n",
    "train_folders = os.listdir('DevanagariHandwrittenCharacterDataset/Train')\n",
    "\n",
    "for i in train_folders:\n",
    "  print(i)"
   ]
  },
  {
   "cell_type": "markdown",
   "metadata": {
    "id": "4cbfZby7lpDU"
   },
   "source": [
    "Let's select the first 10 characters from the Hindi Language\n",
    "\n",
    "<img width=\"600px\" src=\"https://i.postimg.cc/MTPy82xf/Screenshot-2024-01-03-145402.png\">\n"
   ]
  },
  {
   "cell_type": "code",
   "execution_count": 51,
   "metadata": {
    "colab": {
     "base_uri": "https://localhost:8080/",
     "height": 0
    },
    "id": "L2tdMCSZnnU4",
    "outputId": "823c5006-2fcc-434d-fea1-92490a0437e0"
   },
   "outputs": [
    {
     "name": "stdout",
     "output_type": "stream",
     "text": [
      "Selected Folders: \n",
      "==================================================\n",
      "character_3_ga\n",
      "character_8_ja\n",
      "character_1_ka\n",
      "character_2_kha\n",
      "character_10_yna\n",
      "character_4_gha\n",
      "character_5_kna\n",
      "character_7_chha\n",
      "character_6_cha\n",
      "character_9_jha\n"
     ]
    }
   ],
   "source": [
    "# Extracting folder names of first 10 characters\n",
    "\n",
    "def filter_folders(start, end):\n",
    "    directory_path = '/content/DevanagariHandwrittenCharacterDataset/Test'\n",
    "\n",
    "    all_folders = [folder for folder in os.listdir(directory_path) if os.path.isdir(os.path.join(directory_path, folder))]\n",
    "\n",
    "    selected_folders = [folder for folder in all_folders if folder.startswith('character_') and start <= int(folder.split('_')[1]) <= end]\n",
    "\n",
    "    return selected_folders\n",
    "\n",
    "ten_folders = filter_folders(1, 10)\n",
    "\n",
    "print(f\"Selected Folders: \\n{'='*50}\")\n",
    "for i in ten_folders:\n",
    "  print(i)"
   ]
  },
  {
   "cell_type": "markdown",
   "metadata": {
    "id": "ryfyJ7lyqc_Y"
   },
   "source": [
    "Let's create a different directory to store our subset data. This will preserve our original dataset if we need it again."
   ]
  },
  {
   "cell_type": "code",
   "execution_count": 42,
   "metadata": {
    "id": "enZ_Gw6Dw0Wc"
   },
   "outputs": [],
   "source": [
    "# Set up the directories for train and test data\n",
    "train_path = \"/content/DevanagariHandwrittenCharacterDataset/Train\"\n",
    "test_path = \"/content/DevanagariHandwrittenCharacterDataset/Test\""
   ]
  },
  {
   "cell_type": "code",
   "execution_count": 56,
   "metadata": {
    "colab": {
     "base_uri": "https://localhost:8080/",
     "height": 0
    },
    "id": "XqQPlfeI0ZV2",
    "outputId": "b93ba643-c388-42bb-cdd3-1d45b529f72c"
   },
   "outputs": [
    {
     "name": "stdout",
     "output_type": "stream",
     "text": [
      "Folder 'character_3_ga' copied successfully.\n",
      "Folder 'character_8_ja' copied successfully.\n",
      "Folder 'character_1_ka' copied successfully.\n",
      "Folder 'character_2_kha' copied successfully.\n",
      "Folder 'character_10_yna' copied successfully.\n",
      "Folder 'character_4_gha' copied successfully.\n",
      "Folder 'character_5_kna' copied successfully.\n",
      "Folder 'character_7_chha' copied successfully.\n",
      "Folder 'character_6_cha' copied successfully.\n",
      "Folder 'character_9_jha' copied successfully.\n",
      "All specified folders have been copied.\n",
      "\n",
      "Folder 'character_3_ga' copied successfully.\n",
      "Folder 'character_8_ja' copied successfully.\n",
      "Folder 'character_1_ka' copied successfully.\n",
      "Folder 'character_2_kha' copied successfully.\n",
      "Folder 'character_10_yna' copied successfully.\n",
      "Folder 'character_4_gha' copied successfully.\n",
      "Folder 'character_5_kna' copied successfully.\n",
      "Folder 'character_7_chha' copied successfully.\n",
      "Folder 'character_6_cha' copied successfully.\n",
      "Folder 'character_9_jha' copied successfully.\n",
      "All specified folders have been copied.\n",
      "\n"
     ]
    }
   ],
   "source": [
    "def create_copy_of_dataset(source_path, destination_path, subset):\n",
    "\n",
    "  # Iterate over each folder in the result and copy it to the destination directory\n",
    "  for folder in subset:\n",
    "      try:\n",
    "          shutil.copytree(os.path.join(source_path, folder), os.path.join(destination_path, folder))\n",
    "          print(f\"Folder '{folder}' copied successfully.\")\n",
    "      except FileExistsError:\n",
    "          print(f\"Folder '{folder}' already exists in the destination directory.\")\n",
    "\n",
    "  print(\"All specified folders have been copied.\\n\")\n",
    "\n",
    "# Create train copy\n",
    "create_copy_of_dataset(train_path, \"/content/HandwrittenSubset/Train\", ten_folders)\n",
    "\n",
    "# Create test copy\n",
    "create_copy_of_dataset(test_path, \"/content/HandwrittenSubset/Test\", ten_folders)"
   ]
  },
  {
   "cell_type": "code",
   "execution_count": 71,
   "metadata": {
    "colab": {
     "base_uri": "https://localhost:8080/",
     "height": 0
    },
    "id": "7k_kh2iG2XGL",
    "outputId": "56c49b1b-b822-4b18-9f4a-ba61442be509"
   },
   "outputs": [
    {
     "name": "stdout",
     "output_type": "stream",
     "text": [
      "Train Count for character_3_ga: 1700\n",
      "Test Count for character_3_ga: 300\n",
      "==================================================\n",
      "Train Count for character_8_ja: 1700\n",
      "Test Count for character_8_ja: 300\n",
      "==================================================\n",
      "Train Count for character_1_ka: 1700\n",
      "Test Count for character_1_ka: 300\n",
      "==================================================\n",
      "Train Count for character_2_kha: 1700\n",
      "Test Count for character_2_kha: 300\n",
      "==================================================\n",
      "Train Count for character_10_yna: 1700\n",
      "Test Count for character_10_yna: 300\n",
      "==================================================\n",
      "Train Count for character_4_gha: 1700\n",
      "Test Count for character_4_gha: 300\n",
      "==================================================\n",
      "Train Count for character_5_kna: 1700\n",
      "Test Count for character_5_kna: 300\n",
      "==================================================\n",
      "Train Count for character_7_chha: 1700\n",
      "Test Count for character_7_chha: 300\n",
      "==================================================\n",
      "Train Count for character_6_cha: 1700\n",
      "Test Count for character_6_cha: 300\n",
      "==================================================\n",
      "Train Count for character_9_jha: 1700\n",
      "Test Count for character_9_jha: 300\n",
      "==================================================\n"
     ]
    }
   ],
   "source": [
    "# Number of images in our dataset\n",
    "def count_files_in_folder(folder_path):\n",
    "    try:\n",
    "\n",
    "        files = os.listdir(folder_path)\n",
    "\n",
    "        # Filter out directories (if any)\n",
    "        files = [file for file in files if os.path.isfile(os.path.join(folder_path, file))]\n",
    "\n",
    "        return len(files)\n",
    "\n",
    "    except FileNotFoundError:\n",
    "        print(f\"Folder '{folder_path}' not found.\")\n",
    "    except PermissionError:\n",
    "        print(f\"Permission error accessing folder '{folder_path}'.\")\n",
    "\n",
    "\n",
    "folder_path = '/content/HandwrittenSubset/'\n",
    "\n",
    "for _ in ten_folders:\n",
    "  train_subdir_path = folder_path + 'Train/' + _\n",
    "  test_subdir_path = folder_path + 'Test/' + _\n",
    "  print(f\"Train Count for {_}: {count_files_in_folder(train_subdir_path)}\")\n",
    "  print(f\"Test Count for {_}: {count_files_in_folder(test_subdir_path)}\")\n",
    "  print('=' * 50)"
   ]
  },
  {
   "cell_type": "code",
   "execution_count": 40,
   "metadata": {
    "id": "kdmtmKCCwvRh"
   },
   "outputs": [],
   "source": [
    "from tensorflow.keras import layers\n",
    "from tensorflow.keras.preprocessing import image_dataset_from_directory\n",
    "from sklearn.metrics import accuracy_score,classification_report"
   ]
  },
  {
   "cell_type": "code",
   "execution_count": 72,
   "metadata": {
    "id": "uvimMeQO4lEm"
   },
   "outputs": [],
   "source": [
    "# Set up the new directories path for train and test data\n",
    "new_train_path = \"/content/HandwrittenSubset/Train\"\n",
    "new_test_path = \"/content/HandwrittenSubset/Test\""
   ]
  },
  {
   "cell_type": "code",
   "execution_count": 112,
   "metadata": {
    "colab": {
     "base_uri": "https://localhost:8080/",
     "height": 0
    },
    "id": "7qW8oXGQux4i",
    "outputId": "337a8794-5269-401e-e424-6e615eb387c4"
   },
   "outputs": [
    {
     "name": "stdout",
     "output_type": "stream",
     "text": [
      "Found 17000 files belonging to 10 classes.\n",
      "Found 3000 files belonging to 10 classes.\n"
     ]
    }
   ],
   "source": [
    "#Import the data from the directories, then transform them into batches\n",
    "training_dataset = image_dataset_from_directory(directory = new_train_path,\n",
    "                                                image_size = (32,32),\n",
    "                                                batch_size = 32,\n",
    "                                                label_mode = 'categorical')\n",
    "\n",
    "testing_dataset = image_dataset_from_directory(directory = new_test_path,\n",
    "                                                image_size = (32,32),\n",
    "                                                batch_size = 32,\n",
    "                                                label_mode = 'categorical',\n",
    "                                                shuffle = False)"
   ]
  },
  {
   "cell_type": "code",
   "execution_count": 113,
   "metadata": {
    "colab": {
     "base_uri": "https://localhost:8080/",
     "height": 0
    },
    "id": "G9w9T_p05pIs",
    "outputId": "ac0c3ef4-7f7c-4bff-a177-615a2b1a3e4f"
   },
   "outputs": [
    {
     "name": "stdout",
     "output_type": "stream",
     "text": [
      "<_PrefetchDataset element_spec=(TensorSpec(shape=(None, 32, 32, 3), dtype=tf.float32, name=None), TensorSpec(shape=(None, 10), dtype=tf.float32, name=None))>\n",
      "<_PrefetchDataset element_spec=(TensorSpec(shape=(None, 32, 32, 3), dtype=tf.float32, name=None), TensorSpec(shape=(None, 10), dtype=tf.float32, name=None))>\n"
     ]
    }
   ],
   "source": [
    "print(training_dataset)\n",
    "print(testing_dataset)"
   ]
  },
  {
   "cell_type": "code",
   "execution_count": 114,
   "metadata": {
    "colab": {
     "base_uri": "https://localhost:8080/",
     "height": 0
    },
    "id": "uevdJ3rf5g7v",
    "outputId": "b2825a81-fdd4-4483-8940-7302d50b851b"
   },
   "outputs": [
    {
     "data": {
      "text/plain": [
       "['character_10_yna',\n",
       " 'character_1_ka',\n",
       " 'character_2_kha',\n",
       " 'character_3_ga',\n",
       " 'character_4_gha',\n",
       " 'character_5_kna',\n",
       " 'character_6_cha',\n",
       " 'character_7_chha',\n",
       " 'character_8_ja',\n",
       " 'character_9_jha']"
      ]
     },
     "execution_count": 114,
     "metadata": {},
     "output_type": "execute_result"
    }
   ],
   "source": [
    "training_dataset.class_names"
   ]
  },
  {
   "cell_type": "code",
   "execution_count": 115,
   "metadata": {
    "colab": {
     "base_uri": "https://localhost:8080/",
     "height": 0
    },
    "id": "UeoSzRC-6aQq",
    "outputId": "73a1cf5d-d6d2-4b66-bf80-8d2a41a6b66e"
   },
   "outputs": [
    {
     "data": {
      "text/plain": [
       "['ञ', 'क', 'ख', 'ग', 'घ', 'ङ', 'च', 'छ', 'ज', 'झ']"
      ]
     },
     "execution_count": 115,
     "metadata": {},
     "output_type": "execute_result"
    }
   ],
   "source": [
    "# Hindi Letters\n",
    "hindi_character = 'क ख ग घ ङ च छ ज झ ञ'.split(\" \")\n",
    "\n",
    "# Class names (Typed)\n",
    "class_names = '''character_1_ka character_2_kha character_3_ga character_4_gha character_5_kna character_6_cha character_7_chha\n",
    "character_8_ja character_9_jha character_10_yna'''\n",
    "\n",
    "# Extracting class names from dataset\n",
    "class_names_from_dataset = training_dataset.class_names\n",
    "\n",
    "# Sort the hindi character names according to training dataset\n",
    "hindi_character_list = []\n",
    "\n",
    "for char in class_names_from_dataset:\n",
    "  position = int(char.split(\"_\")[1])\n",
    "  hindi_character_list.append(hindi_character[position - 1])\n",
    "\n",
    "hindi_character_list"
   ]
  },
  {
   "cell_type": "code",
   "execution_count": null,
   "metadata": {
    "colab": {
     "base_uri": "https://localhost:8080/"
    },
    "id": "wtJ7sQ2NMGVv",
    "outputId": "a2d51c09-befb-458c-d5c0-7bd6f5d756b7"
   },
   "outputs": [
    {
     "name": "stdout",
     "output_type": "stream",
     "text": [
      "Downloading Hindi fonts...\n",
      "Downloading the Nirmala.tff ...\n",
      "--2024-01-03 11:58:22--  https://www.wfonts.com/download/data/2016/04/29/nirmala-ui/nirmala-ui.zip\n",
      "Resolving www.wfonts.com (www.wfonts.com)... 104.21.1.127, 172.67.129.58, 2606:4700:3037::6815:17f, ...\n",
      "Connecting to www.wfonts.com (www.wfonts.com)|104.21.1.127|:443... connected.\n",
      "HTTP request sent, awaiting response... 200 OK\n",
      "Length: 686493 (670K) [application/octetstream]\n",
      "Saving to: ‘nirmala-ui.zip’\n",
      "\n",
      "nirmala-ui.zip      100%[===================>] 670.40K  3.08MB/s    in 0.2s    \n",
      "\n",
      "2024-01-03 11:58:23 (3.08 MB/s) - ‘nirmala-ui.zip’ saved [686493/686493]\n",
      "\n"
     ]
    }
   ],
   "source": [
    "# Download Hindi Fonts to display is matplotlib plots\n",
    "def get_hindi_fonts():\n",
    "\n",
    "  if not os.path.exists(\"Nirmala.ttf\"):\n",
    "    print(\"Downloading Hindi fonts...\")\n",
    "    print(\"Downloading the Nirmala.tff ...\")\n",
    "    !wget \"https://www.wfonts.com/download/data/2016/04/29/nirmala-ui/nirmala-ui.zip\"\n",
    "    !unzip -q nirmala-ui.zip\n",
    "\n",
    "  else:\n",
    "    print(\"Nirmala.ttf already exist. Skipping downloading...\")\n",
    "\n",
    "get_hindi_fonts()"
   ]
  },
  {
   "cell_type": "code",
   "execution_count": 116,
   "metadata": {
    "id": "nkukJLpm5jfW"
   },
   "outputs": [],
   "source": [
    "# This function will take one batch and display all of the images and labels that are associated with that batch.\n",
    "def display_images_from_dataset(dataset , subplots = (8,4) , figsize = (12,20)):\n",
    "\n",
    "    '''\n",
    "    dataset : From where the images to be displayed\n",
    "    subplot : No of plot to be displayed (Default : subplot = (8,4) )\n",
    "    figsize : Size of figure (Default : (12,20) )\n",
    "    '''\n",
    "\n",
    "    plt.figure(figsize = figsize)\n",
    "    for images , labels in dataset.take(1):\n",
    "      for i in range(subplots[0] * subplots[1]):\n",
    "        plt.subplot(subplots[0], subplots[1], i+1)\n",
    "        plt.imshow(images[i].numpy().astype('uint8'))\n",
    "        plt.axis(False)\n",
    "\n",
    "    plt.show()"
   ]
  },
  {
   "cell_type": "code",
   "execution_count": 117,
   "metadata": {
    "colab": {
     "base_uri": "https://localhost:8080/",
     "height": 1000
    },
    "id": "ys_AKRLV6UmT",
    "outputId": "f7bd8bae-9857-412a-f254-7676f6bb3251"
   },
   "outputs": [
    {
     "data": {
      "image/png": "[encoded data removed]",
      "text/plain": [
       "<Figure size 1200x2000 with 32 Axes>"
      ]
     },
     "metadata": {},
     "output_type": "display_data"
    }
   ],
   "source": [
    "display_images_from_dataset(training_dataset)"
   ]
  },
  {
   "cell_type": "code",
   "execution_count": 137,
   "metadata": {
    "id": "NYhP1Zwb6XYA"
   },
   "outputs": [],
   "source": [
    "# Get the size of the training data\n",
    "\n",
    "training_size = len(training_dataset)\n",
    "\n",
    "# 85 - 15 split for training and validation respectively\n",
    "training_data = training_dataset.take(int((1  -0.15) * training_size))\n",
    "validation_data = training_dataset.skip(int((1 - 0.15) * training_size))"
   ]
  },
  {
   "cell_type": "code",
   "execution_count": 138,
   "metadata": {
    "id": "RDVB8GU4FEM_"
   },
   "outputs": [],
   "source": [
    "from tensorflow.keras import layers\n",
    "\n",
    "# Convolutional layers\n",
    "model_1 = tf.keras.Sequential()\n",
    "model_1.add(layers.Rescaling(1./255))\n",
    "\n",
    "# Layer 1\n",
    "model_1.add(layers.Conv2D(filters=6, kernel_size=(5, 5), activation='relu', input_shape=(32, 32, 3)))\n",
    "model_1.add(layers.AveragePooling2D())\n",
    "\n",
    "# Layer 2\n",
    "model_1.add(layers.Conv2D(filters=16, kernel_size=(5, 5), activation='relu'))\n",
    "model_1.add(layers.AveragePooling2D())\n",
    "\n",
    "# Flatten layer\n",
    "model_1.add(layers.Flatten())\n",
    "\n",
    "# Fully Connected layers\n",
    "model_1.add(layers.Dense(120, activation='relu'))\n",
    "model_1.add(layers.Dense(84, activation='relu'))\n",
    "model_1.add(layers.Dense(len(class_names_from_dataset), activation='softmax'))\n",
    "\n",
    "# Build the model\n",
    "model_1.build(input_shape = (None, 32, 32, 3))"
   ]
  },
  {
   "cell_type": "code",
   "execution_count": 139,
   "metadata": {
    "id": "VtO5J33MF7rR"
   },
   "outputs": [],
   "source": [
    "# Compile Model\n",
    "model_1.compile(loss = 'categorical_crossentropy',\n",
    "                optimizer = 'adam',\n",
    "                metrics = ['accuracy'])"
   ]
  },
  {
   "cell_type": "code",
   "execution_count": 140,
   "metadata": {
    "colab": {
     "base_uri": "https://localhost:8080/",
     "height": 0
    },
    "id": "vP1J_2qwGGzp",
    "outputId": "f03a415d-78ab-4597-de39-72a6b93140d9"
   },
   "outputs": [
    {
     "name": "stdout",
     "output_type": "stream",
     "text": [
      "Model: \"sequential_4\"\n",
      "_________________________________________________________________\n",
      " Layer (type)                Output Shape              Param #   \n",
      "=================================================================\n",
      " rescaling_4 (Rescaling)     (None, 32, 32, 3)         0         \n",
      "                                                                 \n",
      " conv2d_8 (Conv2D)           (None, 28, 28, 6)         456       \n",
      "                                                                 \n",
      " average_pooling2d_8 (Avera  (None, 14, 14, 6)         0         \n",
      " gePooling2D)                                                    \n",
      "                                                                 \n",
      " conv2d_9 (Conv2D)           (None, 10, 10, 16)        2416      \n",
      "                                                                 \n",
      " average_pooling2d_9 (Avera  (None, 5, 5, 16)          0         \n",
      " gePooling2D)                                                    \n",
      "                                                                 \n",
      " flatten_4 (Flatten)         (None, 400)               0         \n",
      "                                                                 \n",
      " dense_11 (Dense)            (None, 120)               48120     \n",
      "                                                                 \n",
      " dense_12 (Dense)            (None, 84)                10164     \n",
      "                                                                 \n",
      " dense_13 (Dense)            (None, 10)                850       \n",
      "                                                                 \n",
      "=================================================================\n",
      "Total params: 62006 (242.21 KB)\n",
      "Trainable params: 62006 (242.21 KB)\n",
      "Non-trainable params: 0 (0.00 Byte)\n",
      "_________________________________________________________________\n"
     ]
    }
   ],
   "source": [
    "model_1.summary()"
   ]
  },
  {
   "cell_type": "code",
   "execution_count": 141,
   "metadata": {
    "id": "2Umo24fPGIjp"
   },
   "outputs": [],
   "source": [
    "# Defining model checkpoints, early stopping, and reduce_lr\n",
    "\n",
    "checkpoint_path = \"/content/Model_1/\" + \"LeNet_ModelCheckPoint_callback/\" + \"checkpoint.ckpt\"\n",
    "checkpoint_callback = tf.keras.callbacks.ModelCheckpoint(filepath=checkpoint_path,\n",
    "                                                         save_weights_only = True,\n",
    "                                                         save_best_only = True,\n",
    "                                                         monitor = 'val_accuracy')\n",
    "\n",
    "# EarlyStopping Callback\n",
    "# Stop training when accuracy isn't increasing\n",
    "early_stopping = tf.keras.callbacks.EarlyStopping(monitor = 'val_accuracy',\n",
    "                                                  patience = 4)\n",
    "\n",
    "# Reduce learning rate when validation accuracy does not improve\n",
    "reduce_lr_callback = tf.keras.callbacks.ReduceLROnPlateau(monitor='val_accuracy',\n",
    "                                                 factor = 0.2,\n",
    "                                                 min_lr = 1e-7,\n",
    "                                                 patience=3)"
   ]
  },
  {
   "cell_type": "code",
   "execution_count": 142,
   "metadata": {
    "colab": {
     "base_uri": "https://localhost:8080/",
     "height": 0
    },
    "id": "vycT5kidHKEl",
    "outputId": "4e22945c-2640-43c6-c3ad-d4d9fb462895"
   },
   "outputs": [
    {
     "name": "stdout",
     "output_type": "stream",
     "text": [
      "Epoch 1/12\n",
      "452/452 [==============================] - 16s 33ms/step - loss: 0.4994 - accuracy: 0.8372 - val_loss: 0.1931 - val_accuracy: 0.9483\n",
      "Epoch 2/12\n",
      "452/452 [==============================] - 16s 36ms/step - loss: 0.1167 - accuracy: 0.9623 - val_loss: 0.0890 - val_accuracy: 0.9744\n",
      "Epoch 3/12\n",
      "452/452 [==============================] - 15s 33ms/step - loss: 0.0682 - accuracy: 0.9778 - val_loss: 0.0687 - val_accuracy: 0.9803\n",
      "Epoch 4/12\n",
      "452/452 [==============================] - 14s 32ms/step - loss: 0.0437 - accuracy: 0.9867 - val_loss: 0.0685 - val_accuracy: 0.9803\n",
      "Epoch 5/12\n",
      "452/452 [==============================] - 15s 32ms/step - loss: 0.0362 - accuracy: 0.9876 - val_loss: 0.1042 - val_accuracy: 0.9692\n",
      "Epoch 6/12\n",
      "452/452 [==============================] - 24s 53ms/step - loss: 0.0230 - accuracy: 0.9920 - val_loss: 0.0607 - val_accuracy: 0.9862\n",
      "Epoch 7/12\n",
      "452/452 [==============================] - 24s 52ms/step - loss: 0.0196 - accuracy: 0.9937 - val_loss: 0.0720 - val_accuracy: 0.9815\n",
      "Epoch 8/12\n",
      "452/452 [==============================] - 18s 39ms/step - loss: 0.0232 - accuracy: 0.9924 - val_loss: 0.0745 - val_accuracy: 0.9803\n",
      "Epoch 9/12\n",
      "452/452 [==============================] - 15s 33ms/step - loss: 0.0214 - accuracy: 0.9928 - val_loss: 0.0663 - val_accuracy: 0.9826\n",
      "Epoch 10/12\n",
      "452/452 [==============================] - 15s 32ms/step - loss: 0.0147 - accuracy: 0.9952 - val_loss: 0.0637 - val_accuracy: 0.9842\n"
     ]
    }
   ],
   "source": [
    "# Model fitting on the loaded dataset\n",
    "model_1_history = model_1.fit(training_data,\n",
    "                        epochs = 12 ,\n",
    "                        steps_per_epoch = len(training_data),\n",
    "                        validation_data = validation_data,\n",
    "                        validation_steps = len(validation_data),\n",
    "                        callbacks=[checkpoint_callback, early_stopping, reduce_lr_callback])\n"
   ]
  },
  {
   "cell_type": "code",
   "execution_count": 144,
   "metadata": {
    "colab": {
     "base_uri": "https://localhost:8080/",
     "height": 0
    },
    "id": "tmrrCw2hH4iZ",
    "outputId": "b032cb3d-1e6d-4c27-f74d-5e1b5d36f1ce"
   },
   "outputs": [
    {
     "name": "stdout",
     "output_type": "stream",
     "text": [
      "94/94 [==============================] - 1s 13ms/step - loss: 0.0510 - accuracy: 0.9860\n"
     ]
    },
    {
     "data": {
      "text/plain": [
       "[0.05103424936532974, 0.9860000014305115]"
      ]
     },
     "execution_count": 144,
     "metadata": {},
     "output_type": "execute_result"
    }
   ],
   "source": [
    "model_1.evaluate(testing_dataset)"
   ]
  },
  {
   "cell_type": "code",
   "execution_count": 146,
   "metadata": {
    "colab": {
     "base_uri": "https://localhost:8080/",
     "height": 427
    },
    "id": "eGNpSRd7JF58",
    "outputId": "df4f28c8-ab38-459d-f1c5-90a3968afebd"
   },
   "outputs": [
    {
     "data": {
      "text/plain": [
       "<matplotlib.legend.Legend at 0x7f9b687bfee0>"
      ]
     },
     "execution_count": 146,
     "metadata": {},
     "output_type": "execute_result"
    },
    {
     "data": {
      "image/png": "[encoded data removed]",
      "text/plain": [
       "<Figure size 1200x400 with 2 Axes>"
      ]
     },
     "metadata": {},
     "output_type": "display_data"
    }
   ],
   "source": [
    "# Plot the training/validation accuracy\n",
    "plt.figure(figsize=(12, 4))\n",
    "plt.subplot(1, 2, 1)\n",
    "\n",
    "plt.plot(model_1_history.history['accuracy'])\n",
    "plt.plot(model_1_history.history['val_accuracy'])\n",
    "plt.title('Model accuracy')\n",
    "plt.ylabel('Accuracy')\n",
    "plt.xlabel('Epoch')\n",
    "plt.legend(['Train', 'Val'], loc='upper left')\n",
    "\n",
    "# Plot loss curve\n",
    "plt.subplot(1, 2, 2)\n",
    "plt.plot(model_1_history.history['loss'] , label = \"Training loss\")\n",
    "plt.plot(model_1_history.history['val_loss'], label = \"Validation loss\")\n",
    "plt.title(\"Loss curve\")\n",
    "plt.xlabel(\"Epochs\")\n",
    "plt.ylabel(\"Loss\")\n",
    "plt.legend(loc='upper right')"
   ]
  },
  {
   "cell_type": "code",
   "execution_count": 148,
   "metadata": {
    "colab": {
     "base_uri": "https://localhost:8080/",
     "height": 0
    },
    "id": "pAJzZBMNJYFG",
    "outputId": "33ede318-8873-4e1b-a7f2-b4e5e1aa64ea"
   },
   "outputs": [
    {
     "name": "stdout",
     "output_type": "stream",
     "text": [
      "94/94 [==============================] - 2s 20ms/step\n"
     ]
    }
   ],
   "source": [
    "predicted_probability = model_1.predict(testing_dataset , verbose=1)\n",
    "predicted_class = predicted_probability.argmax(axis=1)\n",
    "\n",
    "# Get the actual true label\n",
    "y_true = []\n",
    "for images, labels in testing_dataset.unbatch(): # unbatch the test data and get images and labels\n",
    "  y_true.append(labels.numpy().argmax())"
   ]
  },
  {
   "cell_type": "code",
   "execution_count": 149,
   "metadata": {
    "colab": {
     "base_uri": "https://localhost:8080/",
     "height": 0
    },
    "id": "5qwSQpAlJ-QD",
    "outputId": "27e62c4e-b748-4710-a5f8-64171af0db32"
   },
   "outputs": [
    {
     "data": {
      "text/plain": [
       "0.986"
      ]
     },
     "execution_count": 149,
     "metadata": {},
     "output_type": "execute_result"
    }
   ],
   "source": [
    "# Get the accuracy\n",
    "accuracy_score(y_true,predicted_class)"
   ]
  },
  {
   "cell_type": "code",
   "execution_count": 152,
   "metadata": {
    "colab": {
     "base_uri": "https://localhost:8080/",
     "height": 0
    },
    "id": "nG5Ir1ISKJZ8",
    "outputId": "b6eecc69-3452-4768-d5f1-5f4ba2c8bda6"
   },
   "outputs": [
    {
     "name": "stdout",
     "output_type": "stream",
     "text": [
      "532/532 [==============================] - 8s 16ms/step - loss: 0.0225 - accuracy: 0.9935\n",
      "94/94 [==============================] - 1s 12ms/step - loss: 0.0510 - accuracy: 0.9860\n",
      "Evaluating the Model\n",
      "Train MSE: [0.022512776777148247, 0.9934706091880798]\n",
      "Test MSE: [0.05103424936532974, 0.9860000014305115]\n"
     ]
    }
   ],
   "source": [
    "# Evaluating the model\n",
    "train_mse = model_1.evaluate(training_dataset, verbose = 1)\n",
    "test_mse = model_1.evaluate(testing_dataset, verbose = 1)\n",
    "\n",
    "print('Evaluating the Model')\n",
    "print(\"Train MSE:\", train_mse)\n",
    "print(\"Test MSE:\", test_mse)"
   ]
  },
  {
   "cell_type": "code",
   "execution_count": 163,
   "metadata": {
    "colab": {
     "base_uri": "https://localhost:8080/",
     "height": 0
    },
    "id": "DyBDZ3YUKl4V",
    "outputId": "8fa601e9-80c0-46bc-8b59-c6ee4219ad4b"
   },
   "outputs": [
    {
     "name": "stdout",
     "output_type": "stream",
     "text": [
      "Found 3000 files belonging to 10 classes.\n"
     ]
    },
    {
     "data": {
      "text/plain": [
       "[b'/content/HandwrittenSubset/Test/character_10_yna/10544.png',\n",
       " b'/content/HandwrittenSubset/Test/character_10_yna/10551.png',\n",
       " b'/content/HandwrittenSubset/Test/character_10_yna/121.png',\n",
       " b'/content/HandwrittenSubset/Test/character_10_yna/125.png',\n",
       " b'/content/HandwrittenSubset/Test/character_10_yna/135.png',\n",
       " b'/content/HandwrittenSubset/Test/character_10_yna/13642.png',\n",
       " b'/content/HandwrittenSubset/Test/character_10_yna/13656.png',\n",
       " b'/content/HandwrittenSubset/Test/character_10_yna/13657.png',\n",
       " b'/content/HandwrittenSubset/Test/character_10_yna/13674.png',\n",
       " b'/content/HandwrittenSubset/Test/character_10_yna/13680.png']"
      ]
     },
     "execution_count": 163,
     "metadata": {},
     "output_type": "execute_result"
    }
   ],
   "source": [
    "# Get the image path for all of our test data.\n",
    "\n",
    "test_set = image_dataset_from_directory(directory = new_test_path,\n",
    "                                                image_size =(32,32),\n",
    "                                                batch_size =32,\n",
    "                                                label_mode = 'categorical',\n",
    "                                                shuffle = False)\n",
    "\n",
    "image_paths=[] # Store the image path\n",
    "\n",
    "for img_path in test_set.list_files(\"/content/HandwrittenSubset/Test/*/*.png\", shuffle = False):\n",
    "  image_paths.append(img_path.numpy())\n",
    "\n",
    "image_paths[:10] # Display first 10 image path\n"
   ]
  },
  {
   "cell_type": "code",
   "execution_count": 164,
   "metadata": {
    "colab": {
     "base_uri": "https://localhost:8080/",
     "height": 223
    },
    "id": "JB6pBJB3LopJ",
    "outputId": "8abd2343-6b54-4847-8081-ce5c6ce4aa81"
   },
   "outputs": [
    {
     "name": "stdout",
     "output_type": "stream",
     "text": [
      "94/94 [==============================] - 1s 12ms/step\n"
     ]
    },
    {
     "data": {
      "text/html": [
       "\n",
       "  <div id=\"df-b12bafb8-475b-4651-baf5-707bea849a93\" class=\"colab-df-container\">\n",
       "    <div>\n",
       "<style scoped>\n",
       "    .dataframe tbody tr th:only-of-type {\n",
       "        vertical-align: middle;\n",
       "    }\n",
       "\n",
       "    .dataframe tbody tr th {\n",
       "        vertical-align: top;\n",
       "    }\n",
       "\n",
       "    .dataframe thead th {\n",
       "        text-align: right;\n",
       "    }\n",
       "</style>\n",
       "<table border=\"1\" class=\"dataframe\">\n",
       "  <thead>\n",
       "    <tr style=\"text-align: right;\">\n",
       "      <th></th>\n",
       "      <th>image_paths</th>\n",
       "      <th>y_true</th>\n",
       "      <th>y_pred</th>\n",
       "      <th>prediction_confidence</th>\n",
       "      <th>Actual_class</th>\n",
       "      <th>Predicted_class</th>\n",
       "    </tr>\n",
       "  </thead>\n",
       "  <tbody>\n",
       "    <tr>\n",
       "      <th>0</th>\n",
       "      <td>b'/content/HandwrittenSubset/Test/character_10...</td>\n",
       "      <td>0</td>\n",
       "      <td>0</td>\n",
       "      <td>0.999830</td>\n",
       "      <td>ञ</td>\n",
       "      <td>ञ</td>\n",
       "    </tr>\n",
       "    <tr>\n",
       "      <th>1</th>\n",
       "      <td>b'/content/HandwrittenSubset/Test/character_10...</td>\n",
       "      <td>0</td>\n",
       "      <td>0</td>\n",
       "      <td>0.999990</td>\n",
       "      <td>ञ</td>\n",
       "      <td>ञ</td>\n",
       "    </tr>\n",
       "    <tr>\n",
       "      <th>2</th>\n",
       "      <td>b'/content/HandwrittenSubset/Test/character_10...</td>\n",
       "      <td>0</td>\n",
       "      <td>0</td>\n",
       "      <td>0.999400</td>\n",
       "      <td>ञ</td>\n",
       "      <td>ञ</td>\n",
       "    </tr>\n",
       "    <tr>\n",
       "      <th>3</th>\n",
       "      <td>b'/content/HandwrittenSubset/Test/character_10...</td>\n",
       "      <td>0</td>\n",
       "      <td>0</td>\n",
       "      <td>0.999049</td>\n",
       "      <td>ञ</td>\n",
       "      <td>ञ</td>\n",
       "    </tr>\n",
       "    <tr>\n",
       "      <th>4</th>\n",
       "      <td>b'/content/HandwrittenSubset/Test/character_10...</td>\n",
       "      <td>0</td>\n",
       "      <td>0</td>\n",
       "      <td>0.997791</td>\n",
       "      <td>ञ</td>\n",
       "      <td>ञ</td>\n",
       "    </tr>\n",
       "  </tbody>\n",
       "</table>\n",
       "</div>\n",
       "    <div class=\"colab-df-buttons\">\n",
       "\n",
       "  <div class=\"colab-df-container\">\n",
       "    <button class=\"colab-df-convert\" onclick=\"convertToInteractive('df-b12bafb8-475b-4651-baf5-707bea849a93')\"\n",
       "            title=\"Convert this dataframe to an interactive table.\"\n",
       "            style=\"display:none;\">\n",
       "\n",
       "  <svg xmlns=\"http://www.w3.org/2000/svg\" height=\"24px\" viewBox=\"0 -960 960 960\">\n",
       "    <path d=\"M120-120v-720h720v720H120Zm60-500h600v-160H180v160Zm220 220h160v-160H400v160Zm0 220h160v-160H400v160ZM180-400h160v-160H180v160Zm440 0h160v-160H620v160ZM180-180h160v-160H180v160Zm440 0h160v-160H620v160Z\"/>\n",
       "  </svg>\n",
       "    </button>\n",
       "\n",
       "  <style>\n",
       "    .colab-df-container {\n",
       "      display:flex;\n",
       "      gap: 12px;\n",
       "    }\n",
       "\n",
       "    .colab-df-convert {\n",
       "      background-color: #E8F0FE;\n",
       "      border: none;\n",
       "      border-radius: 50%;\n",
       "      cursor: pointer;\n",
       "      display: none;\n",
       "      fill: #1967D2;\n",
       "      height: 32px;\n",
       "      padding: 0 0 0 0;\n",
       "      width: 32px;\n",
       "    }\n",
       "\n",
       "    .colab-df-convert:hover {\n",
       "      background-color: #E2EBFA;\n",
       "      box-shadow: 0px 1px 2px rgba(60, 64, 67, 0.3), 0px 1px 3px 1px rgba(60, 64, 67, 0.15);\n",
       "      fill: #174EA6;\n",
       "    }\n",
       "\n",
       "    .colab-df-buttons div {\n",
       "      margin-bottom: 4px;\n",
       "    }\n",
       "\n",
       "    [theme=dark] .colab-df-convert {\n",
       "      background-color: #3B4455;\n",
       "      fill: #D2E3FC;\n",
       "    }\n",
       "\n",
       "    [theme=dark] .colab-df-convert:hover {\n",
       "      background-color: #434B5C;\n",
       "      box-shadow: 0px 1px 3px 1px rgba(0, 0, 0, 0.15);\n",
       "      filter: drop-shadow(0px 1px 2px rgba(0, 0, 0, 0.3));\n",
       "      fill: #FFFFFF;\n",
       "    }\n",
       "  </style>\n",
       "\n",
       "    <script>\n",
       "      const buttonEl =\n",
       "        document.querySelector('#df-b12bafb8-475b-4651-baf5-707bea849a93 button.colab-df-convert');\n",
       "      buttonEl.style.display =\n",
       "        google.colab.kernel.accessAllowed ? 'block' : 'none';\n",
       "\n",
       "      async function convertToInteractive(key) {\n",
       "        const element = document.querySelector('#df-b12bafb8-475b-4651-baf5-707bea849a93');\n",
       "        const dataTable =\n",
       "          await google.colab.kernel.invokeFunction('convertToInteractive',\n",
       "                                                    [key], {});\n",
       "        if (!dataTable) return;\n",
       "\n",
       "        const docLinkHtml = 'Like what you see? Visit the ' +\n",
       "          '<a target=\"_blank\" href=https://colab.research.google.com/notebooks/data_table.ipynb>data table notebook</a>'\n",
       "          + ' to learn more about interactive tables.';\n",
       "        element.innerHTML = '';\n",
       "        dataTable['output_type'] = 'display_data';\n",
       "        await google.colab.output.renderOutput(dataTable, element);\n",
       "        const docLink = document.createElement('div');\n",
       "        docLink.innerHTML = docLinkHtml;\n",
       "        element.appendChild(docLink);\n",
       "      }\n",
       "    </script>\n",
       "  </div>\n",
       "\n",
       "\n",
       "<div id=\"df-9d179a5f-2e59-4157-a197-f298bdfb809d\">\n",
       "  <button class=\"colab-df-quickchart\" onclick=\"quickchart('df-9d179a5f-2e59-4157-a197-f298bdfb809d')\"\n",
       "            title=\"Suggest charts\"\n",
       "            style=\"display:none;\">\n",
       "\n",
       "<svg xmlns=\"http://www.w3.org/2000/svg\" height=\"24px\"viewBox=\"0 0 24 24\"\n",
       "     width=\"24px\">\n",
       "    <g>\n",
       "        <path d=\"M19 3H5c-1.1 0-2 .9-2 2v14c0 1.1.9 2 2 2h14c1.1 0 2-.9 2-2V5c0-1.1-.9-2-2-2zM9 17H7v-7h2v7zm4 0h-2V7h2v10zm4 0h-2v-4h2v4z\"/>\n",
       "    </g>\n",
       "</svg>\n",
       "  </button>\n",
       "\n",
       "<style>\n",
       "  .colab-df-quickchart {\n",
       "      --bg-color: #E8F0FE;\n",
       "      --fill-color: #1967D2;\n",
       "      --hover-bg-color: #E2EBFA;\n",
       "      --hover-fill-color: #174EA6;\n",
       "      --disabled-fill-color: #AAA;\n",
       "      --disabled-bg-color: #DDD;\n",
       "  }\n",
       "\n",
       "  [theme=dark] .colab-df-quickchart {\n",
       "      --bg-color: #3B4455;\n",
       "      --fill-color: #D2E3FC;\n",
       "      --hover-bg-color: #434B5C;\n",
       "      --hover-fill-color: #FFFFFF;\n",
       "      --disabled-bg-color: #3B4455;\n",
       "      --disabled-fill-color: #666;\n",
       "  }\n",
       "\n",
       "  .colab-df-quickchart {\n",
       "    background-color: var(--bg-color);\n",
       "    border: none;\n",
       "    border-radius: 50%;\n",
       "    cursor: pointer;\n",
       "    display: none;\n",
       "    fill: var(--fill-color);\n",
       "    height: 32px;\n",
       "    padding: 0;\n",
       "    width: 32px;\n",
       "  }\n",
       "\n",
       "  .colab-df-quickchart:hover {\n",
       "    background-color: var(--hover-bg-color);\n",
       "    box-shadow: 0 1px 2px rgba(60, 64, 67, 0.3), 0 1px 3px 1px rgba(60, 64, 67, 0.15);\n",
       "    fill: var(--button-hover-fill-color);\n",
       "  }\n",
       "\n",
       "  .colab-df-quickchart-complete:disabled,\n",
       "  .colab-df-quickchart-complete:disabled:hover {\n",
       "    background-color: var(--disabled-bg-color);\n",
       "    fill: var(--disabled-fill-color);\n",
       "    box-shadow: none;\n",
       "  }\n",
       "\n",
       "  .colab-df-spinner {\n",
       "    border: 2px solid var(--fill-color);\n",
       "    border-color: transparent;\n",
       "    border-bottom-color: var(--fill-color);\n",
       "    animation:\n",
       "      spin 1s steps(1) infinite;\n",
       "  }\n",
       "\n",
       "  @keyframes spin {\n",
       "    0% {\n",
       "      border-color: transparent;\n",
       "      border-bottom-color: var(--fill-color);\n",
       "      border-left-color: var(--fill-color);\n",
       "    }\n",
       "    20% {\n",
       "      border-color: transparent;\n",
       "      border-left-color: var(--fill-color);\n",
       "      border-top-color: var(--fill-color);\n",
       "    }\n",
       "    30% {\n",
       "      border-color: transparent;\n",
       "      border-left-color: var(--fill-color);\n",
       "      border-top-color: var(--fill-color);\n",
       "      border-right-color: var(--fill-color);\n",
       "    }\n",
       "    40% {\n",
       "      border-color: transparent;\n",
       "      border-right-color: var(--fill-color);\n",
       "      border-top-color: var(--fill-color);\n",
       "    }\n",
       "    60% {\n",
       "      border-color: transparent;\n",
       "      border-right-color: var(--fill-color);\n",
       "    }\n",
       "    80% {\n",
       "      border-color: transparent;\n",
       "      border-right-color: var(--fill-color);\n",
       "      border-bottom-color: var(--fill-color);\n",
       "    }\n",
       "    90% {\n",
       "      border-color: transparent;\n",
       "      border-bottom-color: var(--fill-color);\n",
       "    }\n",
       "  }\n",
       "</style>\n",
       "\n",
       "  <script>\n",
       "    async function quickchart(key) {\n",
       "      const quickchartButtonEl =\n",
       "        document.querySelector('#' + key + ' button');\n",
       "      quickchartButtonEl.disabled = true;  // To prevent multiple clicks.\n",
       "      quickchartButtonEl.classList.add('colab-df-spinner');\n",
       "      try {\n",
       "        const charts = await google.colab.kernel.invokeFunction(\n",
       "            'suggestCharts', [key], {});\n",
       "      } catch (error) {\n",
       "        console.error('Error during call to suggestCharts:', error);\n",
       "      }\n",
       "      quickchartButtonEl.classList.remove('colab-df-spinner');\n",
       "      quickchartButtonEl.classList.add('colab-df-quickchart-complete');\n",
       "    }\n",
       "    (() => {\n",
       "      let quickchartButtonEl =\n",
       "        document.querySelector('#df-9d179a5f-2e59-4157-a197-f298bdfb809d button');\n",
       "      quickchartButtonEl.style.display =\n",
       "        google.colab.kernel.accessAllowed ? 'block' : 'none';\n",
       "    })();\n",
       "  </script>\n",
       "</div>\n",
       "\n",
       "    </div>\n",
       "  </div>\n"
      ],
      "text/plain": [
       "                                         image_paths  y_true  y_pred  \\\n",
       "0  b'/content/HandwrittenSubset/Test/character_10...       0       0   \n",
       "1  b'/content/HandwrittenSubset/Test/character_10...       0       0   \n",
       "2  b'/content/HandwrittenSubset/Test/character_10...       0       0   \n",
       "3  b'/content/HandwrittenSubset/Test/character_10...       0       0   \n",
       "4  b'/content/HandwrittenSubset/Test/character_10...       0       0   \n",
       "\n",
       "   prediction_confidence Actual_class Predicted_class  \n",
       "0               0.999830            ञ               ञ  \n",
       "1               0.999990            ञ               ञ  \n",
       "2               0.999400            ञ               ञ  \n",
       "3               0.999049            ञ               ञ  \n",
       "4               0.997791            ञ               ञ  "
      ]
     },
     "execution_count": 164,
     "metadata": {},
     "output_type": "execute_result"
    }
   ],
   "source": [
    "predicted_probability = model_1.predict(testing_dataset , verbose=1)\n",
    "predicted_class = predicted_probability.argmax(axis=1)\n",
    "\n",
    "# Create a dataframe out of current prediction data for error analysis\n",
    "\n",
    "df = pd.DataFrame(data={\"image_paths\":image_paths,\n",
    "                        \"y_true\" : y_true,\n",
    "                        \"y_pred\" : predicted_class,\n",
    "                        \"prediction_confidence\":predicted_probability.max(axis=1),\n",
    "                        \"Actual_class\":[hindi_character_list[i] for i in y_true],\n",
    "                        \"Predicted_class\" : [hindi_character_list[i] for i in predicted_class]})\n",
    "df.head()"
   ]
  },
  {
   "cell_type": "code",
   "execution_count": 165,
   "metadata": {
    "colab": {
     "base_uri": "https://localhost:8080/",
     "height": 206
    },
    "id": "qXVqR4BoLubz",
    "outputId": "f885a5ca-f954-4f86-a59f-b02ce4f5654f"
   },
   "outputs": [
    {
     "data": {
      "text/html": [
       "\n",
       "  <div id=\"df-588ab5fe-6245-4712-bed5-e68e247abf4e\" class=\"colab-df-container\">\n",
       "    <div>\n",
       "<style scoped>\n",
       "    .dataframe tbody tr th:only-of-type {\n",
       "        vertical-align: middle;\n",
       "    }\n",
       "\n",
       "    .dataframe tbody tr th {\n",
       "        vertical-align: top;\n",
       "    }\n",
       "\n",
       "    .dataframe thead th {\n",
       "        text-align: right;\n",
       "    }\n",
       "</style>\n",
       "<table border=\"1\" class=\"dataframe\">\n",
       "  <thead>\n",
       "    <tr style=\"text-align: right;\">\n",
       "      <th></th>\n",
       "      <th>image_paths</th>\n",
       "      <th>y_true</th>\n",
       "      <th>y_pred</th>\n",
       "      <th>prediction_confidence</th>\n",
       "      <th>Actual_class</th>\n",
       "      <th>Predicted_class</th>\n",
       "    </tr>\n",
       "  </thead>\n",
       "  <tbody>\n",
       "    <tr>\n",
       "      <th>2108</th>\n",
       "      <td>b'/content/HandwrittenSubset/Test/character_7_...</td>\n",
       "      <td>7</td>\n",
       "      <td>4</td>\n",
       "      <td>0.999934</td>\n",
       "      <td>छ</td>\n",
       "      <td>घ</td>\n",
       "    </tr>\n",
       "    <tr>\n",
       "      <th>2696</th>\n",
       "      <td>b'/content/HandwrittenSubset/Test/character_8_...</td>\n",
       "      <td>8</td>\n",
       "      <td>5</td>\n",
       "      <td>0.999906</td>\n",
       "      <td>ज</td>\n",
       "      <td>ङ</td>\n",
       "    </tr>\n",
       "    <tr>\n",
       "      <th>1638</th>\n",
       "      <td>b'/content/HandwrittenSubset/Test/character_5_...</td>\n",
       "      <td>5</td>\n",
       "      <td>7</td>\n",
       "      <td>0.997094</td>\n",
       "      <td>ङ</td>\n",
       "      <td>छ</td>\n",
       "    </tr>\n",
       "    <tr>\n",
       "      <th>93</th>\n",
       "      <td>b'/content/HandwrittenSubset/Test/character_10...</td>\n",
       "      <td>0</td>\n",
       "      <td>8</td>\n",
       "      <td>0.996267</td>\n",
       "      <td>ञ</td>\n",
       "      <td>ज</td>\n",
       "    </tr>\n",
       "    <tr>\n",
       "      <th>1201</th>\n",
       "      <td>b'/content/HandwrittenSubset/Test/character_4_...</td>\n",
       "      <td>4</td>\n",
       "      <td>7</td>\n",
       "      <td>0.993130</td>\n",
       "      <td>घ</td>\n",
       "      <td>छ</td>\n",
       "    </tr>\n",
       "  </tbody>\n",
       "</table>\n",
       "</div>\n",
       "    <div class=\"colab-df-buttons\">\n",
       "\n",
       "  <div class=\"colab-df-container\">\n",
       "    <button class=\"colab-df-convert\" onclick=\"convertToInteractive('df-588ab5fe-6245-4712-bed5-e68e247abf4e')\"\n",
       "            title=\"Convert this dataframe to an interactive table.\"\n",
       "            style=\"display:none;\">\n",
       "\n",
       "  <svg xmlns=\"http://www.w3.org/2000/svg\" height=\"24px\" viewBox=\"0 -960 960 960\">\n",
       "    <path d=\"M120-120v-720h720v720H120Zm60-500h600v-160H180v160Zm220 220h160v-160H400v160Zm0 220h160v-160H400v160ZM180-400h160v-160H180v160Zm440 0h160v-160H620v160ZM180-180h160v-160H180v160Zm440 0h160v-160H620v160Z\"/>\n",
       "  </svg>\n",
       "    </button>\n",
       "\n",
       "  <style>\n",
       "    .colab-df-container {\n",
       "      display:flex;\n",
       "      gap: 12px;\n",
       "    }\n",
       "\n",
       "    .colab-df-convert {\n",
       "      background-color: #E8F0FE;\n",
       "      border: none;\n",
       "      border-radius: 50%;\n",
       "      cursor: pointer;\n",
       "      display: none;\n",
       "      fill: #1967D2;\n",
       "      height: 32px;\n",
       "      padding: 0 0 0 0;\n",
       "      width: 32px;\n",
       "    }\n",
       "\n",
       "    .colab-df-convert:hover {\n",
       "      background-color: #E2EBFA;\n",
       "      box-shadow: 0px 1px 2px rgba(60, 64, 67, 0.3), 0px 1px 3px 1px rgba(60, 64, 67, 0.15);\n",
       "      fill: #174EA6;\n",
       "    }\n",
       "\n",
       "    .colab-df-buttons div {\n",
       "      margin-bottom: 4px;\n",
       "    }\n",
       "\n",
       "    [theme=dark] .colab-df-convert {\n",
       "      background-color: #3B4455;\n",
       "      fill: #D2E3FC;\n",
       "    }\n",
       "\n",
       "    [theme=dark] .colab-df-convert:hover {\n",
       "      background-color: #434B5C;\n",
       "      box-shadow: 0px 1px 3px 1px rgba(0, 0, 0, 0.15);\n",
       "      filter: drop-shadow(0px 1px 2px rgba(0, 0, 0, 0.3));\n",
       "      fill: #FFFFFF;\n",
       "    }\n",
       "  </style>\n",
       "\n",
       "    <script>\n",
       "      const buttonEl =\n",
       "        document.querySelector('#df-588ab5fe-6245-4712-bed5-e68e247abf4e button.colab-df-convert');\n",
       "      buttonEl.style.display =\n",
       "        google.colab.kernel.accessAllowed ? 'block' : 'none';\n",
       "\n",
       "      async function convertToInteractive(key) {\n",
       "        const element = document.querySelector('#df-588ab5fe-6245-4712-bed5-e68e247abf4e');\n",
       "        const dataTable =\n",
       "          await google.colab.kernel.invokeFunction('convertToInteractive',\n",
       "                                                    [key], {});\n",
       "        if (!dataTable) return;\n",
       "\n",
       "        const docLinkHtml = 'Like what you see? Visit the ' +\n",
       "          '<a target=\"_blank\" href=https://colab.research.google.com/notebooks/data_table.ipynb>data table notebook</a>'\n",
       "          + ' to learn more about interactive tables.';\n",
       "        element.innerHTML = '';\n",
       "        dataTable['output_type'] = 'display_data';\n",
       "        await google.colab.output.renderOutput(dataTable, element);\n",
       "        const docLink = document.createElement('div');\n",
       "        docLink.innerHTML = docLinkHtml;\n",
       "        element.appendChild(docLink);\n",
       "      }\n",
       "    </script>\n",
       "  </div>\n",
       "\n",
       "\n",
       "<div id=\"df-ee8b07b7-35e9-4092-a50b-87d507d2c53c\">\n",
       "  <button class=\"colab-df-quickchart\" onclick=\"quickchart('df-ee8b07b7-35e9-4092-a50b-87d507d2c53c')\"\n",
       "            title=\"Suggest charts\"\n",
       "            style=\"display:none;\">\n",
       "\n",
       "<svg xmlns=\"http://www.w3.org/2000/svg\" height=\"24px\"viewBox=\"0 0 24 24\"\n",
       "     width=\"24px\">\n",
       "    <g>\n",
       "        <path d=\"M19 3H5c-1.1 0-2 .9-2 2v14c0 1.1.9 2 2 2h14c1.1 0 2-.9 2-2V5c0-1.1-.9-2-2-2zM9 17H7v-7h2v7zm4 0h-2V7h2v10zm4 0h-2v-4h2v4z\"/>\n",
       "    </g>\n",
       "</svg>\n",
       "  </button>\n",
       "\n",
       "<style>\n",
       "  .colab-df-quickchart {\n",
       "      --bg-color: #E8F0FE;\n",
       "      --fill-color: #1967D2;\n",
       "      --hover-bg-color: #E2EBFA;\n",
       "      --hover-fill-color: #174EA6;\n",
       "      --disabled-fill-color: #AAA;\n",
       "      --disabled-bg-color: #DDD;\n",
       "  }\n",
       "\n",
       "  [theme=dark] .colab-df-quickchart {\n",
       "      --bg-color: #3B4455;\n",
       "      --fill-color: #D2E3FC;\n",
       "      --hover-bg-color: #434B5C;\n",
       "      --hover-fill-color: #FFFFFF;\n",
       "      --disabled-bg-color: #3B4455;\n",
       "      --disabled-fill-color: #666;\n",
       "  }\n",
       "\n",
       "  .colab-df-quickchart {\n",
       "    background-color: var(--bg-color);\n",
       "    border: none;\n",
       "    border-radius: 50%;\n",
       "    cursor: pointer;\n",
       "    display: none;\n",
       "    fill: var(--fill-color);\n",
       "    height: 32px;\n",
       "    padding: 0;\n",
       "    width: 32px;\n",
       "  }\n",
       "\n",
       "  .colab-df-quickchart:hover {\n",
       "    background-color: var(--hover-bg-color);\n",
       "    box-shadow: 0 1px 2px rgba(60, 64, 67, 0.3), 0 1px 3px 1px rgba(60, 64, 67, 0.15);\n",
       "    fill: var(--button-hover-fill-color);\n",
       "  }\n",
       "\n",
       "  .colab-df-quickchart-complete:disabled,\n",
       "  .colab-df-quickchart-complete:disabled:hover {\n",
       "    background-color: var(--disabled-bg-color);\n",
       "    fill: var(--disabled-fill-color);\n",
       "    box-shadow: none;\n",
       "  }\n",
       "\n",
       "  .colab-df-spinner {\n",
       "    border: 2px solid var(--fill-color);\n",
       "    border-color: transparent;\n",
       "    border-bottom-color: var(--fill-color);\n",
       "    animation:\n",
       "      spin 1s steps(1) infinite;\n",
       "  }\n",
       "\n",
       "  @keyframes spin {\n",
       "    0% {\n",
       "      border-color: transparent;\n",
       "      border-bottom-color: var(--fill-color);\n",
       "      border-left-color: var(--fill-color);\n",
       "    }\n",
       "    20% {\n",
       "      border-color: transparent;\n",
       "      border-left-color: var(--fill-color);\n",
       "      border-top-color: var(--fill-color);\n",
       "    }\n",
       "    30% {\n",
       "      border-color: transparent;\n",
       "      border-left-color: var(--fill-color);\n",
       "      border-top-color: var(--fill-color);\n",
       "      border-right-color: var(--fill-color);\n",
       "    }\n",
       "    40% {\n",
       "      border-color: transparent;\n",
       "      border-right-color: var(--fill-color);\n",
       "      border-top-color: var(--fill-color);\n",
       "    }\n",
       "    60% {\n",
       "      border-color: transparent;\n",
       "      border-right-color: var(--fill-color);\n",
       "    }\n",
       "    80% {\n",
       "      border-color: transparent;\n",
       "      border-right-color: var(--fill-color);\n",
       "      border-bottom-color: var(--fill-color);\n",
       "    }\n",
       "    90% {\n",
       "      border-color: transparent;\n",
       "      border-bottom-color: var(--fill-color);\n",
       "    }\n",
       "  }\n",
       "</style>\n",
       "\n",
       "  <script>\n",
       "    async function quickchart(key) {\n",
       "      const quickchartButtonEl =\n",
       "        document.querySelector('#' + key + ' button');\n",
       "      quickchartButtonEl.disabled = true;  // To prevent multiple clicks.\n",
       "      quickchartButtonEl.classList.add('colab-df-spinner');\n",
       "      try {\n",
       "        const charts = await google.colab.kernel.invokeFunction(\n",
       "            'suggestCharts', [key], {});\n",
       "      } catch (error) {\n",
       "        console.error('Error during call to suggestCharts:', error);\n",
       "      }\n",
       "      quickchartButtonEl.classList.remove('colab-df-spinner');\n",
       "      quickchartButtonEl.classList.add('colab-df-quickchart-complete');\n",
       "    }\n",
       "    (() => {\n",
       "      let quickchartButtonEl =\n",
       "        document.querySelector('#df-ee8b07b7-35e9-4092-a50b-87d507d2c53c button');\n",
       "      quickchartButtonEl.style.display =\n",
       "        google.colab.kernel.accessAllowed ? 'block' : 'none';\n",
       "    })();\n",
       "  </script>\n",
       "</div>\n",
       "\n",
       "    </div>\n",
       "  </div>\n"
      ],
      "text/plain": [
       "                                            image_paths  y_true  y_pred  \\\n",
       "2108  b'/content/HandwrittenSubset/Test/character_7_...       7       4   \n",
       "2696  b'/content/HandwrittenSubset/Test/character_8_...       8       5   \n",
       "1638  b'/content/HandwrittenSubset/Test/character_5_...       5       7   \n",
       "93    b'/content/HandwrittenSubset/Test/character_10...       0       8   \n",
       "1201  b'/content/HandwrittenSubset/Test/character_4_...       4       7   \n",
       "\n",
       "      prediction_confidence Actual_class Predicted_class  \n",
       "2108               0.999934            छ               घ  \n",
       "2696               0.999906            ज               ङ  \n",
       "1638               0.997094            ङ               छ  \n",
       "93                 0.996267            ञ               ज  \n",
       "1201               0.993130            घ               छ  "
      ]
     },
     "execution_count": 165,
     "metadata": {},
     "output_type": "execute_result"
    }
   ],
   "source": [
    "# Get dataframe having wrong predictions and sort the dataframe in ascending order by predictions confidence\n",
    "wrong_df = df[df['y_true'] != df['y_pred']].sort_values(by = 'prediction_confidence', ascending = False)\n",
    "wrong_df.head()"
   ]
  },
  {
   "cell_type": "code",
   "execution_count": 166,
   "metadata": {
    "id": "0UHvkeLVLxRH"
   },
   "outputs": [],
   "source": [
    "# Viewing the top 20 wrong predictions\n",
    "def display_wrong_prediction(data , subplots = (5,4) , figsize = (10,10) , fontsize = 20):\n",
    "  from pathlib import Path\n",
    "  from matplotlib.font_manager import FontProperties\n",
    "\n",
    "  hindi_font = FontProperties(fname=Path('/content/Nirmala.ttf'))\n",
    "\n",
    "  plt.figure(figsize = figsize)\n",
    "  k=1\n",
    "  for row in data.itertuples():\n",
    "\n",
    "    plt.subplot(subplots[0],subplots[1],k)\n",
    "    k=k+1\n",
    "    img = tf.io.read_file(row[1])\n",
    "    img = tf.io.decode_image(img)\n",
    "\n",
    "    plt.imshow(tf.squeeze(img).numpy().astype('uint8'), cmap = 'gray')\n",
    "    plt.title(f\"Actual Class : {row[5]}\\nPredicted Class : {row[6]}\\nConfidence : {row[4]*100:.2f}\",\n",
    "              fontproperties = hindi_font,\n",
    "              fontsize = fontsize,color='red')\n",
    "    plt.axis(False)\n",
    "\n",
    "  plt.show()"
   ]
  },
  {
   "cell_type": "code",
   "execution_count": 167,
   "metadata": {
    "colab": {
     "base_uri": "https://localhost:8080/",
     "height": 1000
    },
    "id": "qp0RlbcHMGsh",
    "outputId": "e9fc477b-e597-4fea-a9b8-8fcacb1ba781"
   },
   "outputs": [
    {
     "data": {
      "image/png": "[encoded data removed]",
      "text/plain": [
       "<Figure size 1200x2000 with 20 Axes>"
      ]
     },
     "metadata": {},
     "output_type": "display_data"
    }
   ],
   "source": [
    "# Display top 20 wrongly predicted images\n",
    "display_wrong_prediction(data = wrong_df[:20], figsize = (12, 20), fontsize = 15)"
   ]
  },
  {
   "cell_type": "markdown",
   "metadata": {
    "id": "98SHza5JMLrH"
   },
   "source": [
    "Model is confused with letters that have similar style. This can be further improved using hyperparameter tuning, more complex models and trying out other architectures. These can be included as a future scope."
   ]
  }
 ],
 "metadata": {
  "colab": {
   "provenance": []
  },
  "kernelspec": {
   "display_name": "Python 3 (ipykernel)",
   "language": "python",
   "name": "python3"
  },
  "language_info": {
   "codemirror_mode": {
    "name": "ipython",
    "version": 3
   },
   "file_extension": ".py",
   "mimetype": "text/x-python",
   "name": "python",
   "nbconvert_exporter": "python",
   "pygments_lexer": "ipython3",
   "version": "3.11.3"
  }
 },
 "nbformat": 4,
 "nbformat_minor": 4
}
